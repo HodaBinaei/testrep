{
 "cells": [
  {
   "cell_type": "code",
   "execution_count": null,
   "metadata": {},
   "outputs": [],
   "source": [
    "\n"
   ]
  },
  {
   "cell_type": "code",
   "execution_count": 6,
   "metadata": {},
   "outputs": [],
   "source": [
    "import pandas as pd\n",
    "# Numpy\n",
    "import numpy as np\n",
    "from sklearn.ensemble import ExtraTreesRegressor\n",
    "\n",
    "\n",
    "\n",
    "def _mlmodels():\n",
    "    dirpath_fit = input(\"please enter the dir of the data then insert /name to fit \")\n",
    "    dirpath_pred = input(\"please enter the dir of the data then insert /name to prediction \")\n",
    "    df = pd.read_csv(dirpath_fit)\n",
    "    df = pd.DataFrame(df)\n",
    "    X_train=df.iloc[:, 0:4]\n",
    "    y_train=df.iloc[:, 4:11]\n",
    "    X_train=X_train.rename_axis('ID').values\n",
    "    y_train=y_train.rename_axis('ID').values\n",
    "    \n",
    "    \n",
    "    df_pred = pd.read_csv(dirpath_pred)\n",
    "    df_pred = pd.DataFrame(df_pred)\n",
    "    X_test=df.iloc[:, 0:4]\n",
    "    X_test=X_test.rename_axis('ID').values\n",
    "    #X_train, X_test, y_train, y_test = train_test_split(X,y, test_size=0.20, random_state=42)\n",
    "    ESTIMATORS = {\n",
    "    \"Extra trees\": ExtraTreesRegressor()}\n",
    "\n",
    "    results = {}\n",
    "    names = []\n",
    "    for name, model in ESTIMATORS.items():\n",
    "        model.fit(X_train, y_train)\n",
    "        ypred = model.predict(X_test)\n",
    "        #print( \" RMSE of %s model for all: %f \" % (name,\n",
    "        #                                       round (sqrt(mean_squared_error(y_test, ypred)),3)))\n",
    "        #results.update({ name :round (sqrt(mean_squared_error(y_test, ypred)),3) }) \n",
    "        \n",
    "        data =   pd.DataFrame({'q5': np.round(ypred[: ,0],3) ,\n",
    "                           'q10':np.round(ypred[: ,1],3),\n",
    "                            'q25':np.round(ypred[: ,2],3),   \n",
    "                           'q50': np.round(ypred[: ,3],3),\n",
    "                            'q75':np.round(ypred[: ,4],3),   \n",
    "                           'q90': np.round(ypred[: ,5],3), \n",
    "                             'q95':np.round(ypred[: ,6] ,3)})    \n",
    "    print( data)\n",
    "_mlmodels()    "
   ]
  },
  {
   "cell_type": "code",
   "execution_count": null,
   "metadata": {},
   "outputs": [],
   "source": []
  }
 ],
 "metadata": {
  "kernelspec": {
   "display_name": "Python 3",
   "language": "python",
   "name": "python3"
  },
  "language_info": {
   "codemirror_mode": {
    "name": "ipython",
    "version": 3
   },
   "file_extension": ".py",
   "mimetype": "text/x-python",
   "name": "python",
   "nbconvert_exporter": "python",
   "pygments_lexer": "ipython3",
   "version": "3.7.6"
  }
 },
 "nbformat": 4,
 "nbformat_minor": 4
}
